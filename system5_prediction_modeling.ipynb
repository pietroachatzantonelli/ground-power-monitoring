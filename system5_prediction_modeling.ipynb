{
 "cells": [
  {
   "cell_type": "markdown",
   "metadata": {},
   "source": [
    "## System 5: Prediction and Modeling\n",
    "\n",
    "This system takes the combined operations and adds useful metadata to each operation to account for things like APU time vs 400Hz time for a given operation, labeling of operation success, and also emissions.\n",
    "\n",
    "**Inputs:**\n",
    "\n",
    "- 4a: Combined data with each operation listed as metadata on each power consumption time block\n",
    "- 5a: Mapping from Aircraft Model to corresponding APU group and ADG categories\n",
    "- 5b: Mapping from APU group to corresponding emissions factors\n",
    "\n",
    "**Output:**\n",
    "\n",
    "- 5c: Final data CSV with operations and all emissions factors."
   ]
  },
  {
   "cell_type": "code",
   "execution_count": 1,
   "metadata": {},
   "outputs": [],
   "source": [
    "# Dependencies\n",
    "\n",
    "# For any missing libraries, just run (remove curly braces):\n",
    "# !pip install {library_name}\n",
    " \n",
    "## Required\n",
    "import pandas as pd\n",
    "import datetime as dt\n",
    "import numpy as np\n",
    "from tqdm import tqdm_notebook as tqdm\n",
    "import sklearn.model_selection\n",
    "from sklearn.linear_model import LinearRegression\n",
    "from sklearn.preprocessing import StandardScaler"
   ]
  },
  {
   "cell_type": "code",
   "execution_count": 2,
   "metadata": {},
   "outputs": [],
   "source": [
    "# Inputs, settings, and toggles\n",
    "\n",
    "# Consumption Data Granularity to Filter On (operations with mixed granularity or other granularities will be discarded)\n",
    "# In minutes, default value = 5\n",
    "desired_granularity_mins = 5\n",
    "\n",
    "# For the granularity above, define a minimum consumption value (kW) that indicates whether 400Hz power was used\n",
    "# over that time period or not (> this threshold implies at least some 400Hz was drawn)\n",
    "# in kW, default value = 2\n",
    "threshold_kW = 2\n",
    "\n",
    "# Location of input data from System 4\n",
    "input_4a_location = 'sample_data/4a_combined_operations_and_consumption_data.csv'\n",
    "\n",
    "# Location of mapping from Aircraft Model to corresponding APU group and ADG categories\n",
    "input_5a_location = 'sample_data/5a_model_to_emissions_group.csv'\n",
    "\n",
    "# Location of mapping from APU group to corresponding emissions factors\n",
    "input_5b_location = 'sample_data/5b_emissions_group_to_emission_vals.csv'\n",
    "\n",
    "# Desired location of output data\n",
    "output_5c_location = 'sample_data/5c_all_operations_with_all_emissions_metadata.csv'"
   ]
  },
  {
   "cell_type": "code",
   "execution_count": 3,
   "metadata": {},
   "outputs": [
    {
     "name": "stdout",
     "output_type": "stream",
     "text": [
      "Imported CSV with 91506 rows\n"
     ]
    }
   ],
   "source": [
    "# Bring in combined operations & consumption data from System 4\n",
    "date_like = ['Real_Timestamp', 'Actual Landing Time (Aerobahn)', \n",
    "             'Scheduled In Block Time (Aerobahn)',\n",
    "             'Scheduled Off Block Time (Aerobahn)',\n",
    "             'in_block_time_dt',\n",
    "             'off_block_time_dt', \n",
    "             'Row_Time_Delta']\n",
    "data = pd.read_csv(input_4a_location, parse_dates=date_like,  infer_datetime_format=True)\n",
    "print(\"Imported CSV with %d rows\" % len(data))\n",
    "data = data.sort_values(by=['Gate', 'Real_Timestamp'])\n",
    "\n",
    "# Row time delta handling, conversion to NS\n",
    "data['Row_Time_Delta'] = pd.to_timedelta(data['Row_Time_Delta']) # Force Time Delta column type\n",
    "data['Row_Time_Delta_ns'] = data['Row_Time_Delta'].values.astype(np.int64) # Convert to NS"
   ]
  },
  {
   "cell_type": "code",
   "execution_count": 4,
   "metadata": {},
   "outputs": [],
   "source": [
    "# Group rows that represent a single operation together, and define an op_id column\n",
    "group_vars = ['Gate', 'Actual Landing Time (Aerobahn)', 'Registration'] # Choose columns to group by to define an operation\n",
    "data['op_id'] = data.groupby(group_vars).ngroup() # Define a unique op id (unique in the space of this dataset)\n",
    "data.reset_index(drop=True, inplace=True)"
   ]
  },
  {
   "cell_type": "code",
   "execution_count": 5,
   "metadata": {},
   "outputs": [
    {
     "name": "stdout",
     "output_type": "stream",
     "text": [
      "Starting with 91506 operations\n",
      "Filtering out all operations that don't have desired granularity: 5 mins\n"
     ]
    },
    {
     "name": "stderr",
     "output_type": "stream",
     "text": [
      "/Users/chanan/opt/anaconda3/lib/python3.7/site-packages/pandas/core/groupby/groupby.py:937: FutureWarning: Sorting because non-concatenation axis is not aligned. A future version\n",
      "of pandas will change to not sort by default.\n",
      "\n",
      "To accept the future behavior, pass 'sort=False'.\n",
      "\n",
      "To retain the current behavior and silence the warning, pass 'sort=True'.\n",
      "\n",
      "  result = concat(values, axis=self.axis)\n"
     ]
    },
    {
     "name": "stdout",
     "output_type": "stream",
     "text": [
      "Ended up with with 88277 operations that meet granularity criteria\n"
     ]
    }
   ],
   "source": [
    "# Filter out operations that don't contain only rows with the desired granularity\n",
    "\n",
    "data['granularity_valid'] = False\n",
    "print(\"Starting with %d operations\" % len(data))\n",
    "print(\"Filtering out all operations that don't have desired granularity: %d mins\" % desired_granularity_mins)\n",
    "def apply_5m_column(grp):\n",
    "    val = np.mean(grp['Row_Time_Delta_ns'])\n",
    "    # 1 minute = 60000000000 ns\n",
    "    if val == (60000000000 * desired_granularity_mins): # 300000000000 = 5 min\n",
    "        grp['only_5m'] = True\n",
    "    return grp\n",
    "filtered_data = data.groupby('op_id').apply(apply_5m_column)\n",
    "data = filtered_data[filtered_data['only_5m'] == True]\n",
    "print(\"Ended up with with %d operations that meet granularity criteria\" % len(data))"
   ]
  },
  {
   "cell_type": "code",
   "execution_count": 7,
   "metadata": {},
   "outputs": [
    {
     "name": "stderr",
     "output_type": "stream",
     "text": [
      "/Users/chanan/opt/anaconda3/lib/python3.7/site-packages/ipykernel_launcher.py:3: SettingWithCopyWarning: \n",
      "A value is trying to be set on a copy of a slice from a DataFrame.\n",
      "Try using .loc[row_indexer,col_indexer] = value instead\n",
      "\n",
      "See the caveats in the documentation: http://pandas.pydata.org/pandas-docs/stable/user_guide/indexing.html#returning-a-view-versus-a-copy\n",
      "  This is separate from the ipykernel package so we can avoid doing imports until\n",
      "/Users/chanan/opt/anaconda3/lib/python3.7/site-packages/ipykernel_launcher.py:7: SettingWithCopyWarning: \n",
      "A value is trying to be set on a copy of a slice from a DataFrame.\n",
      "Try using .loc[row_indexer,col_indexer] = value instead\n",
      "\n",
      "See the caveats in the documentation: http://pandas.pydata.org/pandas-docs/stable/user_guide/indexing.html#returning-a-view-versus-a-copy\n",
      "  import sys\n",
      "/Users/chanan/opt/anaconda3/lib/python3.7/site-packages/ipykernel_launcher.py:10: SettingWithCopyWarning: \n",
      "A value is trying to be set on a copy of a slice from a DataFrame.\n",
      "Try using .loc[row_indexer,col_indexer] = value instead\n",
      "\n",
      "See the caveats in the documentation: http://pandas.pydata.org/pandas-docs/stable/user_guide/indexing.html#returning-a-view-versus-a-copy\n",
      "  # Remove the CWD from sys.path while we load stuff.\n"
     ]
    }
   ],
   "source": [
    "# Re-do op_id calculation with fewer number of operations\n",
    "\n",
    "data['op_id'] = data.groupby(group_vars).ngroup()\n",
    "\n",
    "# Add column with threshold minimum as defined above \n",
    "# (minimum kW consumption value for a row to be considered to be drawing any 400Hz power)\n",
    "data['threshold'] = threshold_kW\n",
    "\n",
    "# Add greater than threshold column for rows with power over our threshold value\n",
    "data['>threshold'] = data['Power_kW'] > data['threshold']"
   ]
  },
  {
   "cell_type": "code",
   "execution_count": 10,
   "metadata": {},
   "outputs": [
    {
     "name": "stdout",
     "output_type": "stream",
     "text": [
      "Train: (31705, 29) Test: (7927, 29)\n",
      "Our mean squared error is 8.945778 \n"
     ]
    },
    {
     "name": "stderr",
     "output_type": "stream",
     "text": [
      "/Users/chanan/opt/anaconda3/lib/python3.7/site-packages/ipykernel_launcher.py:54: SettingWithCopyWarning: \n",
      "A value is trying to be set on a copy of a slice from a DataFrame.\n",
      "Try using .loc[row_indexer,col_indexer] = value instead\n",
      "\n",
      "See the caveats in the documentation: http://pandas.pydata.org/pandas-docs/stable/user_guide/indexing.html#returning-a-view-versus-a-copy\n",
      "/Users/chanan/opt/anaconda3/lib/python3.7/site-packages/ipykernel_launcher.py:58: SettingWithCopyWarning: \n",
      "A value is trying to be set on a copy of a slice from a DataFrame.\n",
      "Try using .loc[row_indexer,col_indexer] = value instead\n",
      "\n",
      "See the caveats in the documentation: http://pandas.pydata.org/pandas-docs/stable/user_guide/indexing.html#returning-a-view-versus-a-copy\n"
     ]
    }
   ],
   "source": [
    "data_for_prediction = data[data['>threshold'] == 1]\n",
    "# Note: One may consider adding numerical variables as features. We found that using \n",
    "# airplane model was sufficient, but we left in the ability to add additional \n",
    "# categorical and numberical variables to the model. Just uncomment the commented out lines\n",
    "\n",
    "# num_vars = ['example_numerical_col1', 'example_numerical_col2']\n",
    "cat_vars = ['Model'] \n",
    "\n",
    "    \n",
    "train, test = sklearn.model_selection.train_test_split(data_for_prediction, \n",
    "                                                       train_size=0.8, \n",
    "                                                       test_size=0.2, \n",
    "                                                       random_state=5)\n",
    "\n",
    "print('Train:', train.shape, 'Test:', test.shape)\n",
    "\n",
    "#scaler = StandardScaler()\n",
    "#scaler.fit(train[num_vars])\n",
    "\n",
    "# Sourced from UC Berkeley, Data 100, Fall 2019\n",
    "def design_matrix(t):\n",
    "    #scaled = t[num_vars].copy()\n",
    "    #scaled.iloc[:,:] = scaler.transform(scaled) # Convert to standard units\n",
    "    categoricals = [pd.get_dummies(t[s], prefix=s, drop_first=True) for s in cat_vars]\n",
    "    return pd.concat(categoricals, axis=1)\n",
    "\n",
    "def rmse(errors):\n",
    "    \"\"\"Return the root mean squared error.\"\"\"\n",
    "    return np.sqrt(np.mean(errors ** 2))    \n",
    "\n",
    "model = LinearRegression()\n",
    "train2 = design_matrix(train)\n",
    "test2 = design_matrix(test)\n",
    "og2 = design_matrix(data)\n",
    "\n",
    "def add_missing_cols(og, dataset):\n",
    "    # Get missing columns in the training test\n",
    "    missing_cols = set(og.columns) - set(dataset.columns)\n",
    "    # Add a missing column in test set with default value equal to 0\n",
    "    for c in missing_cols:\n",
    "        dataset[c] = 0\n",
    "    # Ensure the order of column in the test set is in the same order than in train set\n",
    "    dataset, og = dataset.align(og, axis=1)\n",
    "    return dataset\n",
    "\n",
    "train3 = add_missing_cols(og2, train2)\n",
    "test3 = add_missing_cols(og2, test2)\n",
    "\n",
    "#train3, test3 = train2.align(test2, join='outer', axis=1, fill_value=0)\n",
    "\n",
    "model.fit(train3, train['Power_kW'])\n",
    "model_prediction = model.predict(test3)\n",
    "linear_rmse = rmse(test['Power_kW'] - model_prediction)\n",
    "test['Power_Predicted'] = model_prediction\n",
    "print(\"Our mean squared error is %f \" % linear_rmse)\n",
    "\n",
    "model.fit(add_missing_cols(og2, design_matrix(data_for_prediction)), data_for_prediction['Power_kW'])\n",
    "data['prediction'] = model.predict(design_matrix(data))"
   ]
  },
  {
   "cell_type": "code",
   "execution_count": 11,
   "metadata": {},
   "outputs": [
    {
     "name": "stderr",
     "output_type": "stream",
     "text": [
      "/Users/chanan/opt/anaconda3/lib/python3.7/site-packages/ipykernel_launcher.py:2: SettingWithCopyWarning: \n",
      "A value is trying to be set on a copy of a slice from a DataFrame.\n",
      "Try using .loc[row_indexer,col_indexer] = value instead\n",
      "\n",
      "See the caveats in the documentation: http://pandas.pydata.org/pandas-docs/stable/user_guide/indexing.html#returning-a-view-versus-a-copy\n",
      "  \n"
     ]
    }
   ],
   "source": [
    "# Build a ratio of power over prediction\n",
    "data['power_over_pred'] = data['Power_kW'] / data['prediction']\n",
    "\n",
    "# Identify where the 400hz ground power is being used and where it is not. \n",
    "# When power>threshold, the 400Hz ratio is 1. For edge cases, after a switch on just occured \n",
    "# and before a switch off, the 400Hz ratio is estimated by observing the ratio between the actual and the \n",
    "# predicted power. Example: at time 1:00, threshold>power, at time 1:05, theshold<power=8kw but the \n",
    "# predicted power was 20 kW. Therefore 8/20=40%=2 minutes are estimated to be connected. Therefore, we \n",
    "# estimate the switch occured at 1:03.\n",
    "def compute_ratio_400hz(grp):\n",
    "    # add switch\n",
    "    last_val = False\n",
    "    for index, row in grp.iterrows():\n",
    "        if row['>threshold'] and not last_val: #switch\n",
    "            grp.loc[index, 'switch'] = True\n",
    "            grp.loc[index, 'ratio_400hz'] = np.minimum(1.0, grp.loc[index, 'power_over_pred'])\n",
    "        elif not row['>threshold'] and last_val: # switch\n",
    "            if index > 0:\n",
    "                grp.loc[index - 1, 'switch'] = True\n",
    "                grp.loc[index - 1, 'ratio_400hz'] = np.minimum(1.0, grp.loc[index - 1, 'power_over_pred'])\n",
    "            grp.loc[index, 'switch'] = False\n",
    "            grp.loc[index, 'ratio_400hz'] = int(grp.loc[index, '>threshold']) # case where switch is False\n",
    "        else:\n",
    "            grp.loc[index, 'switch'] = False\n",
    "            grp.loc[index, 'ratio_400hz'] = int(grp.loc[index, '>threshold']) # case where switch is False\n",
    "        last_val = row['>threshold']\n",
    "        \n",
    "    return grp\n",
    "\n",
    "data_with_ratios = data.groupby('op_id').apply(compute_ratio_400hz)"
   ]
  },
  {
   "cell_type": "code",
   "execution_count": 12,
   "metadata": {},
   "outputs": [],
   "source": [
    "# Now that we know when the switches occur, define ratios for 400Hz and APU\n",
    "\n",
    "data_with_ratios['ratio_APU'] = 1.0 - data_with_ratios['ratio_400hz'] \n",
    "data_with_ratios['time_400hz'] = data_with_ratios['ratio_400hz'] * 5 * data_with_ratios['plane_in_ratio']\n",
    "data_with_ratios['time_APU'] = data_with_ratios['ratio_APU'] * 5 * data_with_ratios['plane_in_ratio']\n",
    "data_with_ratios['num_switches'] = 0\n",
    "data_with_ratios['total_400hz_time'] = 0\n",
    "data_with_ratios['total_APU_time'] = 0\n",
    "\n",
    "def calc_some_totals(op):\n",
    "    num_switches = np.sum(op['switch'])\n",
    "    time_400hz = np.sum(op['time_400hz'])\n",
    "    time_APU = np.sum(op['time_APU'])\n",
    "    op['num_switches'] = num_switches\n",
    "    op['total_time_400hz'] = time_400hz\n",
    "    op['total_time_APU'] = time_APU\n",
    "    return op\n",
    "\n",
    "data_with_ratios.reset_index(drop=True, inplace=True)\n",
    "data_with_ratios_and_sums = data_with_ratios.groupby('op_id').apply(calc_some_totals)"
   ]
  },
  {
   "cell_type": "code",
   "execution_count": 13,
   "metadata": {},
   "outputs": [],
   "source": [
    "data = data_with_ratios_and_sums\n",
    "data['ratio_400hz'] = data['ratio_400hz'] * data['plane_in_ratio']\n",
    "data['ratio_APU'] = data['ratio_APU'] * data['plane_in_ratio']\n",
    "data = data.dropna(subset=['Gate', 'Carrier Group', 'Model'])"
   ]
  },
  {
   "cell_type": "code",
   "execution_count": 14,
   "metadata": {},
   "outputs": [],
   "source": [
    "def compute_emissions(grp):\n",
    "    \n",
    "    total_real = 0\n",
    "    total_400hz = 0\n",
    "    total_APU = 0\n",
    "    \n",
    "    for item, row in grp.iterrows():\n",
    "        chunk_time_in_hours = (int(row['Row_Time_Delta_ns']) / 60000000000) / 60\n",
    "        total_real += row['Power_kW'] * chunk_time_in_hours\n",
    "        total_400hz += row['prediction'] * row['ratio_400hz'] * chunk_time_in_hours\n",
    "        total_APU += row['prediction'] * row['ratio_APU'] * chunk_time_in_hours\n",
    "    \n",
    "    total_pred = total_400hz + total_APU\n",
    "    total_pred_ratio = 0\n",
    "    if (total_real != 0):\n",
    "        total_pred_ratio = (total_real - total_400hz) / total_real        \n",
    "    \n",
    "    grp['op_total_real'] = total_real\n",
    "    grp['op_total_400hz'] = total_400hz\n",
    "    grp['op_total_APU'] = total_APU\n",
    "    grp['op_total_pred'] = total_pred\n",
    "    grp['op_total_pred_ratio'] = total_pred_ratio\n",
    "\n",
    "    return grp\n",
    "\n",
    "data_with_totals = data.groupby('op_id').apply(compute_emissions)"
   ]
  },
  {
   "cell_type": "code",
   "execution_count": 15,
   "metadata": {},
   "outputs": [
    {
     "name": "stdout",
     "output_type": "stream",
     "text": [
      "Exporting to CSV...\n",
      "Exporting complete!\n"
     ]
    }
   ],
   "source": [
    "# Add APU type and AAC and ADG to each row\n",
    "apu_group_by_model = pd.read_csv(input_5a_location, low_memory=False)\n",
    "apu_group_by_model = apu_group_by_model.set_index('Subtype')\n",
    "data_with_groups = data_with_totals.join(other=apu_group_by_model, on='Model', how='left')\n",
    "\n",
    "# Add emissions data by APU type \n",
    "emissions_by_apu_group = pd.read_csv(input_5b_location, low_memory=False)\n",
    "emissions_by_apu_group = emissions_by_apu_group.set_index('APU Group')\n",
    "data_with_emissions = data_with_groups.join(other=emissions_by_apu_group, on='Emissions_Group', how='left')\n",
    "\n",
    "# Define number of APU starts using switch data\n",
    "data_with_emissions['num_starts'] = 1 + (data_with_emissions['num_switches'] // 2)\n",
    "data_with_emissions['apu_start_time'] = data_with_emissions['num_starts'] * 3\n",
    "\n",
    "# Bring in columns from emissions data and convert from hours to minutes \n",
    "cols = ['Normal NOx (kg/hr)', \n",
    "        'Normal NO2 (kg/hr)', \n",
    "        'Normal CO (kg/hr)', \n",
    "        'Normal HC (kg/hr)', \n",
    "        'Normal PM (kg/hr)', \n",
    "        'Normal Fuel (kg/hr)']\n",
    "for col in cols:\n",
    "    col_new_name = col[:-7]\n",
    "    col_new_name = col_new_name + \"(kg)\"\n",
    "    data_with_emissions[col_new_name] = (data_with_emissions[col] * data_with_emissions['time_APU']) / 60\n",
    "\n",
    "# Aggregate emissions data on a per-operation level\n",
    "cols_to_agg = ['op_id']\n",
    "for col in cols:\n",
    "    col_new_name = col[:-7] + \"(kg)\"\n",
    "    cols_to_agg.append(col_new_name)\n",
    "    \n",
    "emissions_per_chunk = data_with_emissions[cols_to_agg]\n",
    "emissions_per_chunk = emissions_per_chunk.set_index('op_id')\n",
    "\n",
    "emissions_agg = emissions_per_chunk.groupby('op_id').agg('sum')\n",
    "emissions_joined = data_with_emissions.join(emissions_agg, on='op_id', lsuffix=\"_row\", rsuffix=\"_total\")\n",
    "\n",
    "# Do the same process as above, except with the APU start emissions factors\n",
    "cols2 = ['Start NOx (kg/hr)', 'Start NO2 (kg/hr)', 'Start CO (kg/hr)', 'Start HC (kg/hr)', 'Start PM (kg/hr)', 'Start Fuel (kg/hr)']\n",
    "\n",
    "for col in cols2: \n",
    "    col_without_hr = col[:-7] + \"(kg)_total\"\n",
    "    emissions_joined[col_without_hr] = (emissions_joined[col] * emissions_joined['apu_start_time']) / 60\n",
    "    \n",
    "cats = ['NOx', 'NO2', 'CO', 'HC', 'PM', 'Fuel']\n",
    "for cat in cats:\n",
    "    normal_total_col = \"Normal \" + cat + \" (kg)_total\"\n",
    "    start_total_col = \"Start \" + cat + \" (kg)_total\"\n",
    "    result_col = cat + \" (kg)_grandtotal\"\n",
    "    emissions_joined[result_col] = emissions_joined[normal_total_col] + emissions_joined[start_total_col]\n",
    "    \n",
    "# Add a successful metric to each operation    \n",
    "emissions_joined.reset_index(drop=True, inplace=True)    \n",
    "emissions_joined['row_successful'] = emissions_joined['Power_kW'] >= (emissions_joined['plane_in_ratio'] * emissions_joined['threshold'])\n",
    "def apply_ratio_successful(grp):\n",
    "    num_success = len(grp[grp['row_successful'] == True])\n",
    "    num_tot = len(grp)\n",
    "    grp['ratio_successful'] = num_success / num_tot\n",
    "    return grp\n",
    "emissions_joined = emissions_joined.groupby('op_id').apply(apply_ratio_successful)\n",
    "    \n",
    "print(\"Exporting to CSV...\")    \n",
    "export_csv = emissions_joined.to_csv(output_5c_location, index = None, header=True)\n",
    "print(\"Exporting complete!\")    "
   ]
  }
 ],
 "metadata": {
  "kernelspec": {
   "display_name": "Python 3 (ipykernel)",
   "language": "python",
   "name": "python3"
  },
  "language_info": {
   "codemirror_mode": {
    "name": "ipython",
    "version": 3
   },
   "file_extension": ".py",
   "mimetype": "text/x-python",
   "name": "python",
   "nbconvert_exporter": "python",
   "pygments_lexer": "ipython3",
   "version": "3.9.12"
  }
 },
 "nbformat": 4,
 "nbformat_minor": 2
}
